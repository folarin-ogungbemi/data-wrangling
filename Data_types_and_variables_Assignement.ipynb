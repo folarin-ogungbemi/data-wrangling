{
 "cells": [
  {
   "cell_type": "markdown",
   "id": "1513d215",
   "metadata": {},
   "source": [
    "# Data_Types_Assignement"
   ]
  },
  {
   "cell_type": "markdown",
   "id": "c2e2f352",
   "metadata": {},
   "source": [
    "## Data Types"
   ]
  },
  {
   "cell_type": "markdown",
   "id": "21d7ab7c",
   "metadata": {},
   "source": [
    "1. Define each data type, and give an example."
   ]
  },
  {
   "cell_type": "markdown",
   "id": "60cb55f4",
   "metadata": {},
   "source": [
    "a. **Integers** are data types with number value. They are used to perform operations on whole numbers.\n",
    "Integers can be positive or negative. *examples 1,2,3,4,5,0,-1,-2,-3,-4,-5* etc.\n",
    "\n",
    "b. **Floating** Points are data types of number value with decimal places. \n",
    "*examples: 1.5, 2.0. 1.25*\n",
    "\n",
    "c. **Strings** are data types with a sequence of characters. They can be in forms of text or numbers wrapped in either a single quote or double quotes.\n",
    "*examples: \"Folarin\" \"Gabriel\" *"
   ]
  },
  {
   "cell_type": "markdown",
   "id": "c48e4a04",
   "metadata": {},
   "source": [
    "2. What data type is each value? Use the type function to verify."
   ]
  },
  {
   "cell_type": "code",
   "execution_count": 3,
   "id": "8d9d64dc",
   "metadata": {},
   "outputs": [
    {
     "data": {
      "text/plain": [
       "int"
      ]
     },
     "execution_count": 3,
     "metadata": {},
     "output_type": "execute_result"
    }
   ],
   "source": [
    "type(3)"
   ]
  },
  {
   "cell_type": "code",
   "execution_count": 4,
   "id": "9bd3c483",
   "metadata": {},
   "outputs": [
    {
     "data": {
      "text/plain": [
       "float"
      ]
     },
     "execution_count": 4,
     "metadata": {},
     "output_type": "execute_result"
    }
   ],
   "source": [
    "type(4.5)"
   ]
  },
  {
   "cell_type": "code",
   "execution_count": 5,
   "id": "684c9b78",
   "metadata": {},
   "outputs": [
    {
     "data": {
      "text/plain": [
       "float"
      ]
     },
     "execution_count": 5,
     "metadata": {},
     "output_type": "execute_result"
    }
   ],
   "source": [
    "type(6.0)"
   ]
  },
  {
   "cell_type": "code",
   "execution_count": 6,
   "id": "d0fa5939",
   "metadata": {},
   "outputs": [
    {
     "data": {
      "text/plain": [
       "str"
      ]
     },
     "execution_count": 6,
     "metadata": {},
     "output_type": "execute_result"
    }
   ],
   "source": [
    "type(\"hello\")"
   ]
  },
  {
   "cell_type": "code",
   "execution_count": 7,
   "id": "36c91497",
   "metadata": {},
   "outputs": [
    {
     "data": {
      "text/plain": [
       "str"
      ]
     },
     "execution_count": 7,
     "metadata": {},
     "output_type": "execute_result"
    }
   ],
   "source": [
    "type(\"3.14159\")"
   ]
  },
  {
   "cell_type": "code",
   "execution_count": 9,
   "id": "f42ba34f",
   "metadata": {},
   "outputs": [],
   "source": [
    "import math"
   ]
  },
  {
   "cell_type": "code",
   "execution_count": 10,
   "id": "c7a508f5",
   "metadata": {},
   "outputs": [
    {
     "data": {
      "text/plain": [
       "float"
      ]
     },
     "execution_count": 10,
     "metadata": {},
     "output_type": "execute_result"
    }
   ],
   "source": [
    "type(math.pi)"
   ]
  },
  {
   "cell_type": "markdown",
   "id": "e97c9ebf",
   "metadata": {},
   "source": [
    "3. Use the type function to identify the data type of each result. Are there any that do not work?"
   ]
  },
  {
   "cell_type": "code",
   "execution_count": 11,
   "id": "7dd9db21",
   "metadata": {},
   "outputs": [],
   "source": [
    "result = 3 + 7"
   ]
  },
  {
   "cell_type": "code",
   "execution_count": 29,
   "id": "08392368",
   "metadata": {},
   "outputs": [
    {
     "data": {
      "text/plain": [
       "str"
      ]
     },
     "execution_count": 29,
     "metadata": {},
     "output_type": "execute_result"
    }
   ],
   "source": [
    "type(result)"
   ]
  },
  {
   "cell_type": "code",
   "execution_count": 13,
   "id": "853f3e78",
   "metadata": {},
   "outputs": [],
   "source": [
    "result = 5 + 6.0"
   ]
  },
  {
   "cell_type": "code",
   "execution_count": 28,
   "id": "9539f3c8",
   "metadata": {},
   "outputs": [
    {
     "data": {
      "text/plain": [
       "str"
      ]
     },
     "execution_count": 28,
     "metadata": {},
     "output_type": "execute_result"
    }
   ],
   "source": [
    "type(result)"
   ]
  },
  {
   "cell_type": "code",
   "execution_count": 15,
   "id": "82737b29",
   "metadata": {},
   "outputs": [],
   "source": [
    "result = 6/3.0"
   ]
  },
  {
   "cell_type": "code",
   "execution_count": 27,
   "id": "c0015b10",
   "metadata": {},
   "outputs": [
    {
     "data": {
      "text/plain": [
       "str"
      ]
     },
     "execution_count": 27,
     "metadata": {},
     "output_type": "execute_result"
    }
   ],
   "source": [
    "type(result)"
   ]
  },
  {
   "cell_type": "code",
   "execution_count": 17,
   "id": "62db7d1a",
   "metadata": {},
   "outputs": [],
   "source": [
    "result = 6.0//3.0"
   ]
  },
  {
   "cell_type": "code",
   "execution_count": 26,
   "id": "0d4ed08a",
   "metadata": {},
   "outputs": [
    {
     "data": {
      "text/plain": [
       "str"
      ]
     },
     "execution_count": 26,
     "metadata": {},
     "output_type": "execute_result"
    }
   ],
   "source": [
    "type(result)"
   ]
  },
  {
   "cell_type": "code",
   "execution_count": 19,
   "id": "b6fd87a4",
   "metadata": {},
   "outputs": [],
   "source": [
    "result = \"Py\" + \"thon\""
   ]
  },
  {
   "cell_type": "code",
   "execution_count": 25,
   "id": "4642dc82",
   "metadata": {},
   "outputs": [
    {
     "data": {
      "text/plain": [
       "str"
      ]
     },
     "execution_count": 25,
     "metadata": {},
     "output_type": "execute_result"
    }
   ],
   "source": [
    "type(result)"
   ]
  },
  {
   "cell_type": "code",
   "execution_count": 30,
   "id": "85b21c18",
   "metadata": {},
   "outputs": [],
   "source": [
    "# \"High\" + 5 cannot be concatenated. so we stringify 5\n",
    "result = \"High\" + str(5)"
   ]
  },
  {
   "cell_type": "code",
   "execution_count": 31,
   "id": "1b89bc7e",
   "metadata": {},
   "outputs": [
    {
     "data": {
      "text/plain": [
       "str"
      ]
     },
     "execution_count": 31,
     "metadata": {},
     "output_type": "execute_result"
    }
   ],
   "source": [
    "type(result)"
   ]
  },
  {
   "cell_type": "markdown",
   "id": "eb91d080",
   "metadata": {},
   "source": [
    "# # Variables"
   ]
  },
  {
   "cell_type": "markdown",
   "id": "bdc32589",
   "metadata": {},
   "source": [
    "4. Which variable names are acceptable, and which are not? If a variable name is unacceptable, explain why.\n",
    "\n",
    "##### Acceptable Variables\n",
    "Reason: It conforms to the naming convention in python. Variables \n",
    "\n",
    "a. num -> normal variable naming convention for single names\n",
    "b. AGE -> acceptable but often used to signify constant variables\n",
    "c. FiRsTnAmE -> Camel Casing is acceptable, not a convention\n",
    "d. _count -> snake casing is acceptable\n",
    "f. card_2 -> snake casing is the normal variable naming convention for multiple names\n",
    "\n",
    "##### Unacceptable variables\n",
    "Reason: It does not conform to the naming convention in python. Variables\n",
    "\n",
    "g. card 2 -> seperated words cannot be used as variables.\n",
    "h. lambda -> is a keyword in python and cannot be accepted."
   ]
  },
  {
   "cell_type": "markdown",
   "id": "c6d59764",
   "metadata": {},
   "source": [
    "5. Choose a meaningful variable name to represent each scenario."
   ]
  },
  {
   "cell_type": "markdown",
   "id": "e1f61125",
   "metadata": {},
   "source": [
    "a. The number of cards dealt to a player.\n",
    " Answer a. -> player_cards\n",
    "b. An employee's monthly salary.\n",
    " Answer b. -> monthly_salary\n",
    "c. The sum of the values rolled by two dice.\n",
    " Answer c. -> two_dice_sum\n",
    "d. The temperature on a hot summer day.\n",
    " Answer d. -> summer_day_temp"
   ]
  },
  {
   "cell_type": "markdown",
   "id": "9566fb08",
   "metadata": {},
   "source": [
    "6. Assign the values x=\"house\", y=\"boat\" and z=\"ha\". What is the result of each statement? Which do not work, and why?\n"
   ]
  },
  {
   "cell_type": "code",
   "execution_count": 33,
   "id": "d246df59",
   "metadata": {},
   "outputs": [],
   "source": [
    "x, y, z = \"house\", \"boat\", \"ha\""
   ]
  },
  {
   "cell_type": "code",
   "execution_count": 37,
   "id": "d620b321",
   "metadata": {},
   "outputs": [
    {
     "name": "stdout",
     "output_type": "stream",
     "text": [
      "houseboat\n"
     ]
    }
   ],
   "source": [
    "print(x + y)"
   ]
  },
  {
   "cell_type": "code",
   "execution_count": 38,
   "id": "86e13ab0",
   "metadata": {},
   "outputs": [
    {
     "name": "stdout",
     "output_type": "stream",
     "text": [
      "boathouse\n"
     ]
    }
   ],
   "source": [
    "print(y + x)"
   ]
  },
  {
   "cell_type": "code",
   "execution_count": 39,
   "id": "0e314b02",
   "metadata": {},
   "outputs": [
    {
     "name": "stdout",
     "output_type": "stream",
     "text": [
      "hahaha\n"
     ]
    }
   ],
   "source": [
    "print(z*3)"
   ]
  },
  {
   "cell_type": "code",
   "execution_count": null,
   "id": "dcd9b253",
   "metadata": {},
   "outputs": [],
   "source": [
    "# d. z*x\n",
    "# TypeError: Not possible to multiply sequence by non-int of type \"str\""
   ]
  },
  {
   "cell_type": "code",
   "execution_count": 44,
   "id": "8f949b24",
   "metadata": {},
   "outputs": [],
   "source": [
    "# e. x+2\n",
    "# TypeError: can only concatenate str (not \"int\") to str"
   ]
  },
  {
   "cell_type": "code",
   "execution_count": 45,
   "id": "c8bf1ee8",
   "metadata": {},
   "outputs": [
    {
     "name": "stdout",
     "output_type": "stream",
     "text": [
      "boat2\n"
     ]
    }
   ],
   "source": [
    "print(y+\"2\")"
   ]
  },
  {
   "cell_type": "markdown",
   "id": "aa4f9cab",
   "metadata": {},
   "source": [
    "7. Assign the values base=10 and height=5. Calculate the area of a triangle using the formula\n"
   ]
  },
  {
   "cell_type": "code",
   "execution_count": 46,
   "id": "806ded1b",
   "metadata": {},
   "outputs": [
    {
     "name": "stdout",
     "output_type": "stream",
     "text": [
      "25.0\n"
     ]
    }
   ],
   "source": [
    "# A = 1/2(b)(h)\n",
    "area = 0.5 * 10 * 5\n",
    "print(area)"
   ]
  },
  {
   "cell_type": "markdown",
   "id": "5191221e",
   "metadata": {},
   "source": [
    "8. Execute the following sequence of commands in the shell, then state the final value of k."
   ]
  },
  {
   "cell_type": "code",
   "execution_count": 47,
   "id": "560cd80f",
   "metadata": {},
   "outputs": [],
   "source": [
    "k = 7"
   ]
  },
  {
   "cell_type": "code",
   "execution_count": 48,
   "id": "188ca338",
   "metadata": {},
   "outputs": [],
   "source": [
    "k += 3"
   ]
  },
  {
   "cell_type": "code",
   "execution_count": 49,
   "id": "b64954a5",
   "metadata": {},
   "outputs": [],
   "source": [
    "k *= 2"
   ]
  },
  {
   "cell_type": "code",
   "execution_count": 50,
   "id": "1db88d38",
   "metadata": {},
   "outputs": [],
   "source": [
    "k -= 5"
   ]
  },
  {
   "cell_type": "code",
   "execution_count": 51,
   "id": "37269c2d",
   "metadata": {},
   "outputs": [],
   "source": [
    "k //= 6"
   ]
  },
  {
   "cell_type": "code",
   "execution_count": 52,
   "id": "598e3116",
   "metadata": {},
   "outputs": [
    {
     "name": "stdout",
     "output_type": "stream",
     "text": [
      "2\n"
     ]
    }
   ],
   "source": [
    "print(k)"
   ]
  },
  {
   "cell_type": "markdown",
   "id": "824ccacd",
   "metadata": {},
   "source": [
    "9. Explain why the following run-time error occurs.\n",
    "\n",
    "> number = 8\n",
    "> Number += 1\n",
    "> Traceback (most recent call last):\n",
    "> File \"<pyshell>\", line 1, in <module>\n",
    "NameError: name 'Number' is not define\n",
    "\n",
    "The name *Number* is not thesame as the variable name *number* due to case sensitivity in python.\n",
    "*Number += 1* can only be done if variable *Number* was already initialized. but in this case it wasn't, so python tries to find the location name in the memory but couldn't find it and therefore **NameError undefined**."
   ]
  },
  {
   "cell_type": "markdown",
   "id": "b3a0df11",
   "metadata": {},
   "source": [
    "10. Python is a dynamically-typed language: a variable’s data type can change as necessary. Assign the\n",
    "value x=4, then use check its type using the type function. What data type is it? Increment x by 1,\n",
    "using the += operator, then check its type again. Did it change? If so, what data type is it? \n",
    "Increment x by 1.0, then check its type. Did it change? If so, what data type is it?"
   ]
  },
  {
   "cell_type": "code",
   "execution_count": 53,
   "id": "bcba4732",
   "metadata": {},
   "outputs": [
    {
     "data": {
      "text/plain": [
       "int"
      ]
     },
     "execution_count": 53,
     "metadata": {},
     "output_type": "execute_result"
    }
   ],
   "source": [
    "x = 4\n",
    "type(x)"
   ]
  },
  {
   "cell_type": "code",
   "execution_count": 54,
   "id": "196489a9",
   "metadata": {},
   "outputs": [
    {
     "data": {
      "text/plain": [
       "int"
      ]
     },
     "execution_count": 54,
     "metadata": {},
     "output_type": "execute_result"
    }
   ],
   "source": [
    "x+=1\n",
    "type(x)"
   ]
  },
  {
   "cell_type": "markdown",
   "id": "fa3a70a3",
   "metadata": {},
   "source": [
    "x data type did not change since the value added to \"x\" is the same data type as already in \"x\""
   ]
  },
  {
   "cell_type": "code",
   "execution_count": 55,
   "id": "a453dde0",
   "metadata": {},
   "outputs": [
    {
     "data": {
      "text/plain": [
       "float"
      ]
     },
     "execution_count": 55,
     "metadata": {},
     "output_type": "execute_result"
    }
   ],
   "source": [
    "x += 1.0\n",
    "type(x)"
   ]
  },
  {
   "cell_type": "markdown",
   "id": "27a5a3b8",
   "metadata": {},
   "source": [
    "x data type changed since the value added to \"x\" is not the same data type as already in \"x\". hence changing the value in x to the data type float. since float is higher in the data pecking order"
   ]
  },
  {
   "cell_type": "code",
   "execution_count": null,
   "id": "ce51880f",
   "metadata": {},
   "outputs": [],
   "source": []
  }
 ],
 "metadata": {
  "kernelspec": {
   "display_name": "Python 3 (ipykernel)",
   "language": "python",
   "name": "python3"
  },
  "language_info": {
   "codemirror_mode": {
    "name": "ipython",
    "version": 3
   },
   "file_extension": ".py",
   "mimetype": "text/x-python",
   "name": "python",
   "nbconvert_exporter": "python",
   "pygments_lexer": "ipython3",
   "version": "3.10.9"
  }
 },
 "nbformat": 4,
 "nbformat_minor": 5
}
