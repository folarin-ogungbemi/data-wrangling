{
 "cells": [
  {
   "cell_type": "markdown",
   "id": "ad14ce8b",
   "metadata": {},
   "source": [
    "# ASSIGNMENT\n",
    "\n",
    "## Data Wrangling"
   ]
  },
  {
   "cell_type": "code",
   "execution_count": 857,
   "id": "cef7b9d5",
   "metadata": {},
   "outputs": [],
   "source": [
    "# Import the library to read the data\n",
    "import pandas as pd\n",
    "df_imdb = pd.read_csv('assignment.csv')"
   ]
  },
  {
   "cell_type": "markdown",
   "id": "f4e914c9",
   "metadata": {},
   "source": [
    "**Data Cleaning To Dos**\n",
    "- Check for duplicates\n",
    "- Rename the columns\n",
    "- Fix the release year inconsistent rows\n",
    "- Fix inconsistent country naming (US -> USA)\n",
    "- Replace duration NaN values\n",
    "- Remove units in Income for arithemetics purpose\n",
    "- correct inconsistencies in Score "
   ]
  },
  {
   "cell_type": "code",
   "execution_count": 858,
   "id": "b847f8d9",
   "metadata": {},
   "outputs": [
    {
     "data": {
      "text/plain": [
       "0"
      ]
     },
     "execution_count": 858,
     "metadata": {},
     "output_type": "execute_result"
    }
   ],
   "source": [
    "# Check if data is duplicated\n",
    "df_imdb.duplicated().sum()"
   ]
  },
  {
   "cell_type": "code",
   "execution_count": 859,
   "id": "3d5465a1",
   "metadata": {},
   "outputs": [],
   "source": [
    "# Convert columns to lower_case\n",
    "df_imdb.columns= df_imdb.columns.str.lower()"
   ]
  },
  {
   "cell_type": "code",
   "execution_count": 860,
   "id": "8550f80d",
   "metadata": {},
   "outputs": [],
   "source": [
    "# Create a dictionary to map old column names to new column names\n",
    "new_column_names = {\n",
    "    'imbd title id': 'imdb_title_id',\n",
    "    'release year': 'release_year',\n",
    "    'original titlê': 'original_title',\n",
    "    'content rating': 'content_rating',\n",
    "    'genrë¨': 'genre',\n",
    "    ' votes ': 'votes'\n",
    "}\n",
    "# Rename the old columns using the dictionary new_column_names\n",
    "df_imdb.rename(columns=new_column_names, inplace=True)"
   ]
  },
  {
   "cell_type": "code",
   "execution_count": 861,
   "id": "8d4a4115",
   "metadata": {},
   "outputs": [],
   "source": [
    "# delete redundant column \"unnamed: 0\"\n",
    "del df_imdb['unnamed: 0']"
   ]
  },
  {
   "cell_type": "code",
   "execution_count": 862,
   "id": "81d59267",
   "metadata": {},
   "outputs": [],
   "source": [
    "# delete empty column \"unnamed: 8\"\n",
    "del df_imdb['unnamed: 8']"
   ]
  },
  {
   "cell_type": "code",
   "execution_count": 863,
   "id": "a357cf25",
   "metadata": {},
   "outputs": [],
   "source": [
    "# Drop rows with NaN data\n",
    "df_imdb = df_imdb.drop(13)\n",
    "df_imdb=df_imdb.reset_index(drop=True)"
   ]
  },
  {
   "cell_type": "code",
   "execution_count": 864,
   "id": "701474d9",
   "metadata": {},
   "outputs": [],
   "source": [
    "# replace values in the 'Country' column\n",
    "replace_country = {\n",
    "    'US': 'USA',\n",
    "    'Italy1': 'Italy',\n",
    "    'New Zeland': 'New Zealand',\n",
    "    'New Zesland': 'New Zealand',\n",
    "    'West Germany': 'Germany'\n",
    "}\n",
    "df_imdb['country']=df_imdb['country'].replace(replace_country)"
   ]
  },
  {
   "cell_type": "code",
   "execution_count": 865,
   "id": "8f435dca",
   "metadata": {},
   "outputs": [],
   "source": [
    "# \"1984-02-34\" changed to \"1984-03-05\" since there are 29 days in 1984\n",
    "# \"1976-13-24\" changed to \"1977-01-24\"\n",
    "# The 6th of marzo, year 1951' changed to \"1951-03-06\": marzo(spanish) = march(english)\n",
    "replace_year = {\n",
    "    ' 23 -07-2008': '2008-07-23',\n",
    "    \"1984-02-34\": \"1984-03-05\",\n",
    "    \"1976-13-24\": \"1977-01-24\",\n",
    "    'The 6th of marzo, year 1951': '1951-03-06',\n",
    "    '23rd December of 1966 ': '1966-12-23',\n",
    "    '01/16-03': '2003-01-16',\n",
    "    '21-11-46': '2046-11-21',\n",
    "    '18/11/1976': '1976-11-18',\n",
    "    '10-29-99': '1999-10-29',\n",
    "    '22 Feb 04': '2004-02-22',\n",
    "    '09 21 1972': '1972-09-21',\n",
    "}\n",
    "df_imdb['release_year']=df_imdb['release_year'].replace(replace_year)"
   ]
  },
  {
   "cell_type": "code",
   "execution_count": 866,
   "id": "d1d9d641",
   "metadata": {},
   "outputs": [],
   "source": [
    "# Replace movies without rating with \"Unrated\"\n",
    "replace_rating = {\n",
    "    \"Not Rated\":\"Unrated\",\n",
    "    \"Approved\": \"Unrated\",\n",
    "}\n",
    "df_imdb['content_rating'] = df_imdb['content_rating'].replace(replace_rating)"
   ]
  },
  {
   "cell_type": "code",
   "execution_count": 867,
   "id": "71dd2523",
   "metadata": {},
   "outputs": [],
   "source": [
    "# Check for \"NaN\" values in the content_rating column and replace them with \"No Rating\"\n",
    "df_imdb.loc[df_imdb['content_rating'].isna(), 'content_rating'] = \"Unrated\""
   ]
  },
  {
   "cell_type": "code",
   "execution_count": 868,
   "id": "a3826e9e",
   "metadata": {},
   "outputs": [
    {
     "data": {
      "text/html": [
       "<div>\n",
       "<style scoped>\n",
       "    .dataframe tbody tr th:only-of-type {\n",
       "        vertical-align: middle;\n",
       "    }\n",
       "\n",
       "    .dataframe tbody tr th {\n",
       "        vertical-align: top;\n",
       "    }\n",
       "\n",
       "    .dataframe thead th {\n",
       "        text-align: right;\n",
       "    }\n",
       "</style>\n",
       "<table border=\"1\" class=\"dataframe\">\n",
       "  <thead>\n",
       "    <tr style=\"text-align: right;\">\n",
       "      <th></th>\n",
       "      <th>imdb_title_id</th>\n",
       "      <th>original_title</th>\n",
       "      <th>release_year</th>\n",
       "      <th>genre</th>\n",
       "      <th>duration</th>\n",
       "      <th>country</th>\n",
       "      <th>content_rating</th>\n",
       "      <th>director</th>\n",
       "      <th>income</th>\n",
       "      <th>votes</th>\n",
       "      <th>score</th>\n",
       "    </tr>\n",
       "  </thead>\n",
       "  <tbody>\n",
       "    <tr>\n",
       "      <th>13</th>\n",
       "      <td>tt0133093</td>\n",
       "      <td>The Matrix</td>\n",
       "      <td>1999-05-07</td>\n",
       "      <td>Action, Sci-Fi</td>\n",
       "      <td>NaN</td>\n",
       "      <td>USA</td>\n",
       "      <td>R</td>\n",
       "      <td>Lana Wachowski, Lilly Wachowski</td>\n",
       "      <td>$ 465718588</td>\n",
       "      <td>1.632.315</td>\n",
       "      <td>++8.7</td>\n",
       "    </tr>\n",
       "  </tbody>\n",
       "</table>\n",
       "</div>"
      ],
      "text/plain": [
       "   imdb_title_id original_title release_year           genre duration country  \\\n",
       "13     tt0133093     The Matrix   1999-05-07  Action, Sci-Fi      NaN     USA   \n",
       "\n",
       "   content_rating                         director       income      votes  \\\n",
       "13              R  Lana Wachowski, Lilly Wachowski  $ 465718588  1.632.315   \n",
       "\n",
       "    score  \n",
       "13  ++8.7  "
      ]
     },
     "execution_count": 868,
     "metadata": {},
     "output_type": "execute_result"
    }
   ],
   "source": [
    "# Check NaN values in duration\n",
    "nan_duration = df_imdb[df_imdb['duration'].isna()]\n",
    "nan_duration"
   ]
  },
  {
   "cell_type": "code",
   "execution_count": 869,
   "id": "0fda5845",
   "metadata": {},
   "outputs": [],
   "source": [
    "# search online : what is duration of the imdb The Matrix released in year 1999-05-07?\n",
    "# replace duration\n",
    "df_imdb['duration'][13] = \"136\""
   ]
  },
  {
   "cell_type": "code",
   "execution_count": 870,
   "id": "7373c71c",
   "metadata": {},
   "outputs": [
    {
     "data": {
      "text/plain": [
       "1"
      ]
     },
     "execution_count": 870,
     "metadata": {},
     "output_type": "execute_result"
    }
   ],
   "source": [
    "# check for number of movies without duration\n",
    "count = (df_imdb['duration'] == \" \").sum()\n",
    "count"
   ]
  },
  {
   "cell_type": "code",
   "execution_count": 871,
   "id": "e29cc660",
   "metadata": {},
   "outputs": [],
   "source": [
    "# search online : what is duration of the imdb Pulp Fiction released in year 1994-10-28?\n",
    "# replace duration\n",
    "df_imdb['duration'][4] = \"154\""
   ]
  },
  {
   "cell_type": "code",
   "execution_count": 872,
   "id": "cdd5da1a",
   "metadata": {},
   "outputs": [],
   "source": [
    "# replace unit-sign  and 'o'  and convert to float for arithmetic operation\n",
    "df_imdb['income'] = df_imdb['income'].astype(str).str.replace('$', '', regex=False).str.replace('o', '0').str.replace(',', '').astype(float)"
   ]
  },
  {
   "cell_type": "code",
   "execution_count": 873,
   "id": "b65970c3",
   "metadata": {},
   "outputs": [],
   "source": [
    "# calculate the total income\n",
    "total_income = df_imdb['income'].sum()\n",
    "df_imdb['total_income'] = total_income"
   ]
  },
  {
   "cell_type": "code",
   "execution_count": 874,
   "id": "d6efad59",
   "metadata": {},
   "outputs": [
    {
     "name": "stdout",
     "output_type": "stream",
     "text": [
      "[9.3, 9.2, 9.0, 9.0, 8.9, 8.9, 8.9, 8.9, 8.8, 8.8, 8.8, 8.8, 8.8, 8.7, 8.7, 8.7, 8.7, 8.7, 8.6, 8.6, 8.6, 8.6, 8.6, 8.6, 8.6, 8.6, 8.6, 8.6, 8.6, 8.6, 8.5, 8.5, 8.5, 8.5, 8.5, 8.5, 8.4, 8.4, 8.4, 8.4, 8.4, 8.4, 8.4, 8.3, 8.3, 8.3, 8.3, 8.3, 8.3, 8.3, 8.3, 8.2, 8.2, 8.2, 8.2, 8.2, 8.2, 8.2, 8.2, 8.1, 8.1, 8.1, 8.1, 8.1, 8.1, 8.1, 8.0, 8.0, 8.0, 8.0, 8.0, 8.0, 7.9, 7.9, 7.9, 7.9, 7.9, 7.8, 7.8, 7.8, 7.8, 7.8, 7.8, 7.7, 7.7, 7.7, 7.7, 7.6, 7.6, 7.6, 7.6, 7.5, 7.5, 7.5, 7.5, 7.5, 7.5, 7.4, 7.4, 7.4]\n"
     ]
    }
   ],
   "source": [
    "# scores formatting\n",
    "import re\n",
    "\n",
    "# Define the regular expression pattern\n",
    "pattern = r'[f,+e.0:-]'\n",
    "\n",
    "# Apply the regex pattern using replace()\n",
    "df_imdb['score'] = df_imdb['score'].str.replace(pattern, '', regex=True)\n",
    "\n",
    "# Convert the column to string data type\n",
    "df_imdb['score'] = df_imdb['score'].astype(str)\n",
    "\n",
    "# Add a decimal point after the first digit\n",
    "df_imdb['score'] = df_imdb['score'].apply(lambda x: x[0] + '.' + x[1:])\n",
    "\n",
    "# Convert the column back to numeric data\n",
    "df_imdb['score'] = pd.to_numeric(df_imdb['score'], errors='coerce')\n",
    "\n",
    "# list out all items in score\n",
    "column_values = df_imdb['score'].tolist()\n",
    "print(column_values)"
   ]
  },
  {
   "cell_type": "code",
   "execution_count": 875,
   "id": "9c85dae1",
   "metadata": {},
   "outputs": [
    {
     "data": {
      "text/html": [
       "<div>\n",
       "<style scoped>\n",
       "    .dataframe tbody tr th:only-of-type {\n",
       "        vertical-align: middle;\n",
       "    }\n",
       "\n",
       "    .dataframe tbody tr th {\n",
       "        vertical-align: top;\n",
       "    }\n",
       "\n",
       "    .dataframe thead th {\n",
       "        text-align: right;\n",
       "    }\n",
       "</style>\n",
       "<table border=\"1\" class=\"dataframe\">\n",
       "  <thead>\n",
       "    <tr style=\"text-align: right;\">\n",
       "      <th></th>\n",
       "      <th>imdb_title_id</th>\n",
       "      <th>original_title</th>\n",
       "      <th>release_year</th>\n",
       "      <th>genre</th>\n",
       "      <th>duration</th>\n",
       "      <th>country</th>\n",
       "      <th>content_rating</th>\n",
       "      <th>director</th>\n",
       "      <th>income</th>\n",
       "      <th>votes</th>\n",
       "      <th>score</th>\n",
       "      <th>total_income</th>\n",
       "    </tr>\n",
       "  </thead>\n",
       "  <tbody>\n",
       "    <tr>\n",
       "      <th>0</th>\n",
       "      <td>tt0111161</td>\n",
       "      <td>The Shawshank Redemption</td>\n",
       "      <td>1995-02-10</td>\n",
       "      <td>Drama</td>\n",
       "      <td>142</td>\n",
       "      <td>USA</td>\n",
       "      <td>R</td>\n",
       "      <td>Frank Darabont</td>\n",
       "      <td>2.881524e+07</td>\n",
       "      <td>2.278.845</td>\n",
       "      <td>9.3</td>\n",
       "      <td>2.991255e+10</td>\n",
       "    </tr>\n",
       "    <tr>\n",
       "      <th>1</th>\n",
       "      <td>tt0068646</td>\n",
       "      <td>The Godfather</td>\n",
       "      <td>1972-09-21</td>\n",
       "      <td>Crime, Drama</td>\n",
       "      <td>175</td>\n",
       "      <td>USA</td>\n",
       "      <td>R</td>\n",
       "      <td>Francis Ford Coppola</td>\n",
       "      <td>2.461210e+08</td>\n",
       "      <td>1.572.674</td>\n",
       "      <td>9.2</td>\n",
       "      <td>2.991255e+10</td>\n",
       "    </tr>\n",
       "    <tr>\n",
       "      <th>2</th>\n",
       "      <td>tt0468569</td>\n",
       "      <td>The Dark Knight</td>\n",
       "      <td>2008-07-23</td>\n",
       "      <td>Action, Crime, Drama</td>\n",
       "      <td>152</td>\n",
       "      <td>USA</td>\n",
       "      <td>PG-13</td>\n",
       "      <td>Christopher Nolan</td>\n",
       "      <td>1.005455e+09</td>\n",
       "      <td>2.241.615</td>\n",
       "      <td>9.0</td>\n",
       "      <td>2.991255e+10</td>\n",
       "    </tr>\n",
       "    <tr>\n",
       "      <th>3</th>\n",
       "      <td>tt0071562</td>\n",
       "      <td>The Godfather: Part II</td>\n",
       "      <td>1975-09-25</td>\n",
       "      <td>Crime, Drama</td>\n",
       "      <td>220</td>\n",
       "      <td>USA</td>\n",
       "      <td>R</td>\n",
       "      <td>Francis Ford Coppola</td>\n",
       "      <td>4.080358e+08</td>\n",
       "      <td>1.098.714</td>\n",
       "      <td>9.0</td>\n",
       "      <td>2.991255e+10</td>\n",
       "    </tr>\n",
       "    <tr>\n",
       "      <th>4</th>\n",
       "      <td>tt0110912</td>\n",
       "      <td>Pulp Fiction</td>\n",
       "      <td>1994-10-28</td>\n",
       "      <td>Crime, Drama</td>\n",
       "      <td>154</td>\n",
       "      <td>USA</td>\n",
       "      <td>R</td>\n",
       "      <td>Quentin Tarantino</td>\n",
       "      <td>2.228318e+08</td>\n",
       "      <td>1.780.147</td>\n",
       "      <td>8.9</td>\n",
       "      <td>2.991255e+10</td>\n",
       "    </tr>\n",
       "    <tr>\n",
       "      <th>...</th>\n",
       "      <td>...</td>\n",
       "      <td>...</td>\n",
       "      <td>...</td>\n",
       "      <td>...</td>\n",
       "      <td>...</td>\n",
       "      <td>...</td>\n",
       "      <td>...</td>\n",
       "      <td>...</td>\n",
       "      <td>...</td>\n",
       "      <td>...</td>\n",
       "      <td>...</td>\n",
       "      <td>...</td>\n",
       "    </tr>\n",
       "    <tr>\n",
       "      <th>95</th>\n",
       "      <td>tt0070735</td>\n",
       "      <td>The Sting</td>\n",
       "      <td>1974-03-21</td>\n",
       "      <td>Comedy, Crime, Drama</td>\n",
       "      <td>129</td>\n",
       "      <td>USA</td>\n",
       "      <td>PG</td>\n",
       "      <td>George Roy Hill</td>\n",
       "      <td>1.560000e+08</td>\n",
       "      <td>236.285</td>\n",
       "      <td>7.5</td>\n",
       "      <td>2.991255e+10</td>\n",
       "    </tr>\n",
       "    <tr>\n",
       "      <th>96</th>\n",
       "      <td>tt0082096</td>\n",
       "      <td>Das Boot</td>\n",
       "      <td>1982-03-18</td>\n",
       "      <td>Adventure, Drama, Thriller</td>\n",
       "      <td>149</td>\n",
       "      <td>Germany</td>\n",
       "      <td>R</td>\n",
       "      <td>Wolfgang Petersen</td>\n",
       "      <td>1.148768e+07</td>\n",
       "      <td>226.427</td>\n",
       "      <td>7.5</td>\n",
       "      <td>2.991255e+10</td>\n",
       "    </tr>\n",
       "    <tr>\n",
       "      <th>97</th>\n",
       "      <td>tt0059578</td>\n",
       "      <td>Per qualche dollaro in piÃ¹</td>\n",
       "      <td>1965-12-20</td>\n",
       "      <td>Western</td>\n",
       "      <td>132</td>\n",
       "      <td>Italy</td>\n",
       "      <td>Unrated</td>\n",
       "      <td>Sergio Leone</td>\n",
       "      <td>1.500000e+07</td>\n",
       "      <td>226.039</td>\n",
       "      <td>7.4</td>\n",
       "      <td>2.991255e+10</td>\n",
       "    </tr>\n",
       "    <tr>\n",
       "      <th>98</th>\n",
       "      <td>tt1832382</td>\n",
       "      <td>Jodaeiye Nader az Simin</td>\n",
       "      <td>2011-10-21</td>\n",
       "      <td>Drama</td>\n",
       "      <td>123</td>\n",
       "      <td>Iran</td>\n",
       "      <td>PG-13</td>\n",
       "      <td>Asghar Farhadi</td>\n",
       "      <td>2.292608e+07</td>\n",
       "      <td>214.165</td>\n",
       "      <td>7.4</td>\n",
       "      <td>2.991255e+10</td>\n",
       "    </tr>\n",
       "    <tr>\n",
       "      <th>99</th>\n",
       "      <td>tt0045152</td>\n",
       "      <td>Singin' in the Rain</td>\n",
       "      <td>1953-02-05</td>\n",
       "      <td>Comedy, Musical, Romance</td>\n",
       "      <td>103</td>\n",
       "      <td>USA</td>\n",
       "      <td>Unrated</td>\n",
       "      <td>Stanley Donen</td>\n",
       "      <td>1.864182e+06</td>\n",
       "      <td>213.152</td>\n",
       "      <td>7.4</td>\n",
       "      <td>2.991255e+10</td>\n",
       "    </tr>\n",
       "  </tbody>\n",
       "</table>\n",
       "<p>100 rows × 12 columns</p>\n",
       "</div>"
      ],
      "text/plain": [
       "   imdb_title_id               original_title release_year  \\\n",
       "0      tt0111161     The Shawshank Redemption   1995-02-10   \n",
       "1      tt0068646                The Godfather   1972-09-21   \n",
       "2      tt0468569              The Dark Knight   2008-07-23   \n",
       "3      tt0071562       The Godfather: Part II   1975-09-25   \n",
       "4      tt0110912                 Pulp Fiction   1994-10-28   \n",
       "..           ...                          ...          ...   \n",
       "95     tt0070735                    The Sting   1974-03-21   \n",
       "96     tt0082096                     Das Boot   1982-03-18   \n",
       "97     tt0059578  Per qualche dollaro in piÃ¹   1965-12-20   \n",
       "98     tt1832382      Jodaeiye Nader az Simin   2011-10-21   \n",
       "99     tt0045152          Singin' in the Rain   1953-02-05   \n",
       "\n",
       "                         genre duration  country content_rating  \\\n",
       "0                        Drama      142      USA              R   \n",
       "1                 Crime, Drama      175      USA              R   \n",
       "2         Action, Crime, Drama      152      USA          PG-13   \n",
       "3                 Crime, Drama      220      USA              R   \n",
       "4                 Crime, Drama      154      USA              R   \n",
       "..                         ...      ...      ...            ...   \n",
       "95        Comedy, Crime, Drama      129      USA             PG   \n",
       "96  Adventure, Drama, Thriller      149  Germany              R   \n",
       "97                     Western      132    Italy        Unrated   \n",
       "98                       Drama      123     Iran          PG-13   \n",
       "99    Comedy, Musical, Romance      103      USA        Unrated   \n",
       "\n",
       "                director        income      votes  score  total_income  \n",
       "0         Frank Darabont  2.881524e+07  2.278.845    9.3  2.991255e+10  \n",
       "1   Francis Ford Coppola  2.461210e+08  1.572.674    9.2  2.991255e+10  \n",
       "2      Christopher Nolan  1.005455e+09  2.241.615    9.0  2.991255e+10  \n",
       "3   Francis Ford Coppola  4.080358e+08  1.098.714    9.0  2.991255e+10  \n",
       "4      Quentin Tarantino  2.228318e+08  1.780.147    8.9  2.991255e+10  \n",
       "..                   ...           ...        ...    ...           ...  \n",
       "95       George Roy Hill  1.560000e+08    236.285    7.5  2.991255e+10  \n",
       "96     Wolfgang Petersen  1.148768e+07    226.427    7.5  2.991255e+10  \n",
       "97          Sergio Leone  1.500000e+07    226.039    7.4  2.991255e+10  \n",
       "98        Asghar Farhadi  2.292608e+07    214.165    7.4  2.991255e+10  \n",
       "99         Stanley Donen  1.864182e+06    213.152    7.4  2.991255e+10  \n",
       "\n",
       "[100 rows x 12 columns]"
      ]
     },
     "execution_count": 875,
     "metadata": {},
     "output_type": "execute_result"
    }
   ],
   "source": [
    "pd.DataFrame(data=df_imdb)"
   ]
  },
  {
   "cell_type": "code",
   "execution_count": 876,
   "id": "5872569f",
   "metadata": {},
   "outputs": [
    {
     "data": {
      "text/plain": [
       "<Axes: xlabel='count', ylabel='country'>"
      ]
     },
     "execution_count": 876,
     "metadata": {},
     "output_type": "execute_result"
    },
    {
     "data": {
      "image/png": "[encoded data removed]",
      "text/plain": [
       "<Figure size 640x480 with 1 Axes>"
      ]
     },
     "metadata": {},
     "output_type": "display_data"
    }
   ],
   "source": [
    "import seaborn as sns\n",
    "sns.countplot(data=df_imdb, y='country')"
   ]
  }
 ],
 "metadata": {
  "kernelspec": {
   "display_name": "Python 3 (ipykernel)",
   "language": "python",
   "name": "python3"
  },
  "language_info": {
   "codemirror_mode": {
    "name": "ipython",
    "version": 3
   },
   "file_extension": ".py",
   "mimetype": "text/x-python",
   "name": "python",
   "nbconvert_exporter": "python",
   "pygments_lexer": "ipython3",
   "version": "3.10.9"
  }
 },
 "nbformat": 4,
 "nbformat_minor": 5
}
